{
 "cells": [
  {
   "cell_type": "code",
   "execution_count": 5,
   "metadata": {},
   "outputs": [],
   "source": [
    "import os\n",
    "import sys\n",
    "import importlib\n",
    "\n",
    "os.environ[\"JAX_ENABLE_X64\"] = \"true\"\n",
    "os.environ[\"XLA_PYTHON_CLIENT_PREALLOCATE\"] = \"false\"\n",
    "os.environ['ENABLE_PJRT_COMPATIBILITY'] = 'false'\n",
    "os.environ[\"JAX_PLATFORMS\"] = \"cpu\""
   ]
  },
  {
   "cell_type": "code",
   "execution_count": 6,
   "metadata": {},
   "outputs": [],
   "source": [
    "import numpy as np\n",
    "import matplotlib.pyplot as plt\n",
    "\n",
    "import matplotlib\n",
    "matplotlib.rcParams['pdf.fonttype'] = 42\n",
    "matplotlib.rcParams['ps.fonttype'] = 42\n",
    "font_axis_label = 16"
   ]
  },
  {
   "cell_type": "code",
   "execution_count": 7,
   "metadata": {},
   "outputs": [
    {
     "name": "stdout",
     "output_type": "stream",
     "text": [
      "experiments\n",
      "linear_problems\n",
      "manifolds\n",
      "model_utils\n",
      "solvers\n",
      "theory_utils\n",
      "theory_utils_spectral\n"
     ]
    }
   ],
   "source": [
    "import src\n",
    "importlib.import_module(f'src')\n",
    "for module in dir(src):\n",
    "    if '__' not in module:\n",
    "        print(module)\n",
    "        importlib.import_module(f'src.{module}')\n",
    "        importlib.reload(sys.modules[f'src.{module}'])\n",
    "\n",
    "from src.experiments import experiment_toy\n",
    "from src.theory_utils_spectral import SVR_th_spectral"
   ]
  },
  {
   "cell_type": "code",
   "execution_count": 8,
   "metadata": {},
   "outputs": [],
   "source": [
    "P, N, grid_size, num_trials = 800, 25, 50, 25\n",
    "P, N, grid_size, num_trials = 800, 25, 25, 25\n",
    "# P, N, grid_size, num_trials = 800, 25, 5, 25\n",
    "\n",
    "corr_list = np.linspace(0.1, 1, grid_size)\n",
    "noise_list = np.linspace(0.01, 1, grid_size)\n",
    "epsilon_list = np.append([-1, -2], np.linspace(0., 0.8, grid_size))\n",
    "alpha_list = np.arange(0.1, 3, 0.1)\n",
    "\n",
    "centroid_seed = 42\n",
    "lamb = 1e-18\n",
    "fn_list = []\n",
    "\n",
    "overwrite = False\n",
    "\n",
    "alldata_file = f'all_data_toy_new_P_{P}_N_{N}_grid_{grid_size}'\\\n",
    "    f'_centroid_seed_{centroid_seed}_lamb_{lamb:.1e}_fn_{str(fn_list)}.npz'\n",
    "    \n",
    "if os.path.exists('./results/'+alldata_file) and not overwrite:\n",
    "    data = np.load('./results/'+alldata_file, allow_pickle=True)['data'].tolist()\n",
    "else:\n",
    "    data = experiment_toy(P=P,\n",
    "                          N=N,\n",
    "                          centroid_seed=centroid_seed,\n",
    "                          grid_size=grid_size,\n",
    "                          num_trials=num_trials,\n",
    "                          overwrite=overwrite,\n",
    "                          SVR_th=SVR_th_spectral,\n",
    "                          fn_list=fn_list,\n",
    "                          plot_fig=False,\n",
    "                          corr_list=corr_list,\n",
    "                          noise_list=noise_list,\n",
    "                          epsilon_list=epsilon_list,\n",
    "                          alpha_list=alpha_list)\n",
    "\n",
    "exp_params = data.pop('exp_params')\n",
    "corr_list = exp_params['corr_list']\n",
    "noise_list = exp_params['noise_list']\n",
    "epsilon_list = exp_params['epsilon_list']\n",
    "alpha_list = exp_params['alpha_list']"
   ]
  },
  {
   "cell_type": "code",
   "execution_count": null,
   "metadata": {},
   "outputs": [],
   "source": []
  },
  {
   "cell_type": "code",
   "execution_count": null,
   "metadata": {},
   "outputs": [],
   "source": []
  }
 ],
 "metadata": {
  "kernelspec": {
   "display_name": "torch",
   "language": "python",
   "name": "python3"
  },
  "language_info": {
   "codemirror_mode": {
    "name": "ipython",
    "version": 3
   },
   "file_extension": ".py",
   "mimetype": "text/x-python",
   "name": "python",
   "nbconvert_exporter": "python",
   "pygments_lexer": "ipython3",
   "version": "3.11.4"
  }
 },
 "nbformat": 4,
 "nbformat_minor": 2
}
