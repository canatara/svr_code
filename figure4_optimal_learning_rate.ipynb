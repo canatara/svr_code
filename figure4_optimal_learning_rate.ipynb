{
 "cells": [
  {
   "cell_type": "code",
   "execution_count": 1,
   "metadata": {},
   "outputs": [],
   "source": [
    "import os\n",
    "import sys\n",
    "import importlib\n",
    "\n",
    "os.environ[\"JAX_ENABLE_X64\"] = \"true\"\n",
    "os.environ[\"XLA_PYTHON_CLIENT_PREALLOCATE\"] = \"false\"\n",
    "os.environ['ENABLE_PJRT_COMPATIBILITY'] = 'false'\n",
    "os.environ[\"JAX_PLATFORMS\"] = \"cpu\""
   ]
  },
  {
   "cell_type": "code",
   "execution_count": 2,
   "metadata": {},
   "outputs": [],
   "source": [
    "import numpy as np\n",
    "import matplotlib.pyplot as plt\n",
    "\n",
    "import matplotlib\n",
    "matplotlib.rcParams['pdf.fonttype'] = 42\n",
    "matplotlib.rcParams['ps.fonttype'] = 42\n",
    "font_axis_label = 16\n",
    "\n",
    "plt.rcParams.update({\n",
    "    \"text.usetex\": True,\n",
    "    \"font.family\": \"serif\",\n",
    "    'font.size': 12\n",
    "})"
   ]
  },
  {
   "cell_type": "code",
   "execution_count": 3,
   "metadata": {},
   "outputs": [],
   "source": [
    "import src\n",
    "importlib.import_module(f'src')\n",
    "for module in dir(src):\n",
    "    if '__' not in module:\n",
    "        print(module)\n",
    "        importlib.import_module(f'src.{module}')\n",
    "        importlib.reload(sys.modules[f'src.{module}'])\n",
    "        \n",
    "from src.experiments import GaussianManifold, run_experiment\n",
    "from src.theory_utils_spectral import SVR_th_spectral"
   ]
  },
  {
   "cell_type": "code",
   "execution_count": null,
   "metadata": {},
   "outputs": [],
   "source": []
  },
  {
   "cell_type": "code",
   "execution_count": 4,
   "metadata": {},
   "outputs": [
    {
     "name": "stdout",
     "output_type": "stream",
     "text": [
      "corr_0.667_noise_1.0_P_800_N_25_grid_4_centroid_seed_42.npz\n",
      "[1.e-03 1.e-02 1.e-01 1.e+00 1.e+01 1.e+02]\n"
     ]
    },
    {
     "data": {
      "image/png": "[encoded data removed]",
      "text/plain": [
       "<Figure size 500x300 with 1 Axes>"
      ]
     },
     "metadata": {},
     "output_type": "display_data"
    }
   ],
   "source": [
    "P, N, grid_size, num_trials = 800, 25, 4, 25\n",
    "\n",
    "corr_list = [0.667]\n",
    "noise_list = [1.0]\n",
    "centroid_seed = 42\n",
    "fn_list = []\n",
    "fn_list = ['linsvr2']\n",
    "overwrite = False\n",
    "\n",
    "for corr in corr_list:\n",
    "    for noise in noise_list:\n",
    "\n",
    "        filename = f'corr_{corr}_noise_{noise}_P_{P}_N_{N}_grid_{grid_size}_centroid_seed_{centroid_seed}.npz'\n",
    "        print(filename)\n",
    "\n",
    "        import os.path\n",
    "        if os.path.exists('./ceph/temp/'+filename) and not overwrite:\n",
    "            returns = np.load('./ceph/temp/'+filename, allow_pickle=True)['returns'].tolist()\n",
    "\n",
    "\n",
    "        else:\n",
    "            manifold = GaussianManifold(P, N, corr=corr, noise=noise, centroid_seed=centroid_seed)\n",
    "\n",
    "            returns = run_experiment(manifold, grid_size=grid_size, num_trials=num_trials,\n",
    "                                     SVR_th=SVR_th_spectral,\n",
    "                                     fn_list=fn_list,\n",
    "                                     epsilon_list=np.array([-1, -2, 0.5, 0]),\n",
    "                                     alpha_list=np.arange(0.1, 5, 0.3),\n",
    "                                     debug=False)\n",
    "\n",
    "            np.savez('./ceph/temp/'+filename, returns=returns)\n",
    "            \n",
    "            \n",
    "        alpha_list = returns['alpha_list']\n",
    "        alpha_list_th = returns['alpha_list_th']\n",
    "        epsilon_list = returns['epsilon_list']\n",
    "        grid_size = returns['grid_size']\n",
    "        num_trials = returns['num_trials']\n",
    "        lamb = returns['lamb']\n",
    "        num_trials = returns['num_trials']\n",
    "        fn_list = returns['fn_list']\n",
    "\n",
    "        all_results_exp = returns['all_results_exp']\n",
    "        all_results_th = returns['all_results_th']\n",
    "\n",
    "        C = all_results_th['C']\n",
    "        gen_err = all_results_exp[f'gen_err_{fn_list[0]}'] if len(fn_list) != 0 else C\n",
    "        alpha_list = alpha_list if len(fn_list) != 0 else alpha_list_th\n",
    "        C = np.clip(C, a_min=None, a_max=3)\n",
    "        gen_err = np.clip(gen_err, a_min=None, a_max=3)\n",
    "\n",
    "        plt.figure(figsize=(5, 3))\n",
    "        ax = plt.gca()\n",
    "\n",
    "        eps_plot_idx = [3, 2, 0, 1]\n",
    "        eps_plot_list = [0, 0.5, -1, -2]\n",
    "        for i, (eps_idx, eps) in enumerate(zip(eps_plot_idx, eps_plot_list)):\n",
    "            if eps == -1:\n",
    "                label = r'$\\varepsilon_{opt}$'\n",
    "            elif eps == -2:\n",
    "                label = r'$\\lambda_{opt}$'\n",
    "            else:\n",
    "                label = fr'$\\varepsilon = {eps}$'\n",
    "            plt.plot(alpha_list, gen_err[eps_idx], 'o', color=f'C{i}', label=label)\n",
    "            plt.plot(alpha_list_th, C[eps_idx], color=f'C{i}')\n",
    "        plt.yscale('log')\n",
    "        plt.xscale('log')\n",
    "\n",
    "        plt.axhline(all_results_th['E_inf'][0, 0], color='k', linestyle='--')\n",
    "        plt.xlabel(r'$\\alpha$', fontsize=font_axis_label)\n",
    "        plt.ylabel(r'$E_g$', fontsize=font_axis_label)\n",
    "        plt.legend()\n",
    "\n",
    "        plt.tight_layout()\n",
    "        xticks = plt.gca().get_xticks()\n",
    "        ax.xaxis.set_major_formatter('{x:.1f}')\n",
    "        ax.yaxis.set_major_formatter('{x:.0f}')\n",
    "        print(xticks)\n",
    "\n",
    "        if filename == 'corr_0.667_noise_1.0_P_800_N_25_grid_4_centroid_seed_42.npz':\n",
    "            plt.tight_layout()\n",
    "            plt.savefig('./figures/optimal_learning_curves.pdf')\n",
    "\n",
    "        plt.show()"
   ]
  },
  {
   "cell_type": "code",
   "execution_count": null,
   "metadata": {},
   "outputs": [],
   "source": []
  }
 ],
 "metadata": {
  "kernelspec": {
   "display_name": "torch",
   "language": "python",
   "name": "python3"
  },
  "language_info": {
   "codemirror_mode": {
    "name": "ipython",
    "version": 3
   },
   "file_extension": ".py",
   "mimetype": "text/x-python",
   "name": "python",
   "nbconvert_exporter": "python",
   "pygments_lexer": "ipython3",
   "version": "3.11.4"
  }
 },
 "nbformat": 4,
 "nbformat_minor": 2
}
