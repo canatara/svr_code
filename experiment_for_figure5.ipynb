{
 "cells": [
  {
   "cell_type": "code",
   "execution_count": 4,
   "metadata": {},
   "outputs": [],
   "source": [
    "import os\n",
    "import sys\n",
    "import importlib\n",
    "\n",
    "os.environ[\"JAX_ENABLE_X64\"] = \"true\"\n",
    "os.environ[\"XLA_PYTHON_CLIENT_PREALLOCATE\"] = \"false\"\n",
    "os.environ['ENABLE_PJRT_COMPATIBILITY'] = 'false'\n",
    "os.environ[\"JAX_PLATFORMS\"] = \"cpu\""
   ]
  },
  {
   "cell_type": "code",
   "execution_count": 5,
   "metadata": {},
   "outputs": [],
   "source": [
    "import numpy as np"
   ]
  },
  {
   "cell_type": "code",
   "execution_count": null,
   "metadata": {},
   "outputs": [],
   "source": [
    "import src\n",
    "importlib.import_module(f'src')\n",
    "for module in dir(src):\n",
    "    if '__' not in module:\n",
    "        print(module)\n",
    "        importlib.import_module(f'src.{module}')\n",
    "        importlib.reload(sys.modules[f'src.{module}'])\n",
    "\n",
    "from src.experiments import GratingImages\n",
    "from src.experiments import experiment_grating\n",
    "from src.theory_utils_spectral import SVR_th_spectral"
   ]
  },
  {
   "cell_type": "code",
   "execution_count": null,
   "metadata": {},
   "outputs": [],
   "source": [
    "import timm\n",
    "max_img_num = 100\n",
    "random_seed = 42\n",
    "\n",
    "grating_manifold = GratingImages(max_img_num=max_img_num,\n",
    "                                 image_size=(64, 64),\n",
    "                                 max_sample_size=100,\n",
    "                                 random_seed=random_seed)\n",
    "angles, manifold = grating_manifold.create_grating_manifold()\n",
    "grating_manifold.sample_digits()\n",
    "grating_manifold.sample_manifold()"
   ]
  },
  {
   "cell_type": "code",
   "execution_count": null,
   "metadata": {},
   "outputs": [],
   "source": []
  },
  {
   "cell_type": "code",
   "execution_count": 8,
   "metadata": {},
   "outputs": [],
   "source": [
    "def process_data(all_data, save_keys):\n",
    "    \n",
    "    from copy import deepcopy\n",
    "\n",
    "    model_list = ['resnet18', 'resnet34', 'resnet50'\n",
    "                  ]\n",
    "    trained_list = ['random', 'trained']\n",
    "    layer_list = ['conv1', 'layer1', 'layer2',  'layer3', 'layer4']\n",
    "\n",
    "    all_box_data = []\n",
    "    for trained in trained_list:\n",
    "        box_temp1 = []\n",
    "        for model in model_list:\n",
    "            box_temp2 = []\n",
    "            for layer in layer_list:\n",
    "\n",
    "                d = deepcopy(all_data[trained][model][layer])\n",
    "                d = d['all_results_th']\n",
    "\n",
    "                def correct_dict(all_results_th):\n",
    "\n",
    "                    corrected_th = deepcopy(all_results_th)\n",
    "\n",
    "                    C = all_results_th['C'][0]\n",
    "                    Etr = all_results_th['Etr'][0]\n",
    "                    idx_C = np.abs(np.diff(C, prepend=0)) > 2e-1\n",
    "                    idx_Etr = Etr > 1e-5\n",
    "\n",
    "                    correct_keys = ['C', 'Etr', 'alpha_eff', 'epsilon_eff', 'epsilon_th', 'lamb_eff']\n",
    "\n",
    "                    for i in range(len(C)):\n",
    "                        if (idx_C[i] or idx_Etr[i]) and i > 5:\n",
    "                            for key in correct_keys:\n",
    "                                corrected_th[key][0][i] = corrected_th[key][0][i-1]\n",
    "\n",
    "                    return corrected_th\n",
    "                d = correct_dict(d)\n",
    "\n",
    "                assert len(np.unique(d['E_inf'])) == 1\n",
    "                d['Etr'] = d['Etr'] * (d['Etr'] > 1e-10)\n",
    "                d['C'] = d['C'] * (d['C'] > 1e-15)\n",
    "                d['C'][0] *= (d['Etr'][0] < 1e-15)\n",
    "                d['epsilon_th'][0] *= (d['Etr'][0] < 1e-5)\n",
    "                d['epsilon_eff'][0] *= (d['Etr'][0] < 1e-5)\n",
    "                d['Etr'][0] *= (d['Etr'][0] < 1e-5)\n",
    "\n",
    "                idx_wrong = d['Etr'][0] > 1e-5\n",
    "                if idx_wrong.sum():\n",
    "                    d['C'][0][idx_wrong] = np.nan\n",
    "\n",
    "                box_temp2 += [[d[key]*np.ones((4, 100)) for key in save_keys]]\n",
    "            box_temp1 += [box_temp2]\n",
    "        all_box_data += [box_temp1]\n",
    "\n",
    "    all_box_data = np.array(all_box_data).swapaxes(0, 3)\n",
    "    all_box_data_dict = {key: val for key, val in zip(save_keys, all_box_data)}\n",
    "    return all_box_data_dict"
   ]
  },
  {
   "cell_type": "code",
   "execution_count": null,
   "metadata": {},
   "outputs": [],
   "source": [
    "overwrite = False\n",
    "\n",
    "\n",
    "rand_proj_dim_list = [25, 50, 75, 100, 500, 1000,\n",
    "                      ]\n",
    "sample_size_list = [100, 300,\n",
    "                    ]\n",
    "max_img_num_list = [100, 300\n",
    "                    ]\n",
    "random_seed_list = [12, 42, 123,  187, 345,\n",
    "                    ]\n",
    "\n",
    "from copy import deepcopy\n",
    "dict4 = {key: dict() for key in random_seed_list}\n",
    "dict3 = {key: deepcopy(dict4) for key in sample_size_list}\n",
    "dict2 = {key: deepcopy(dict3) for key in max_img_num_list}\n",
    "dict1 = {key: deepcopy(dict2) for key in rand_proj_dim_list}\n",
    "\n",
    "combined_data = deepcopy(dict1)\n",
    "for rand_proj_dim in rand_proj_dim_list:\n",
    "    for max_img_num in max_img_num_list:\n",
    "        for sample_size in sample_size_list:\n",
    "            for seed in random_seed_list:\n",
    "\n",
    "                data = experiment_grating(sample_size=sample_size,\n",
    "                                          max_img_num=max_img_num,\n",
    "                                          rand_proj_dim=rand_proj_dim,\n",
    "                                          random_seed=seed,\n",
    "                                          SVR_th=SVR_th_spectral,\n",
    "                                          plot_fig=False)\n",
    "\n",
    "                combined_data[rand_proj_dim][max_img_num][sample_size][seed] = deepcopy(data)\n",
    "\n",
    "\n",
    "combined_data['rand_proj_dim_list'] = rand_proj_dim_list\n",
    "combined_data['max_img_num_list'] = max_img_num_list\n",
    "combined_data['sample_size_list'] = sample_size_list\n",
    "combined_data['random_seed_list'] = random_seed_list"
   ]
  },
  {
   "cell_type": "code",
   "execution_count": null,
   "metadata": {},
   "outputs": [],
   "source": [
    "np.savez('./results/combined_data_grating_dataset.npz', combined_data=combined_data)"
   ]
  },
  {
   "cell_type": "code",
   "execution_count": null,
   "metadata": {},
   "outputs": [],
   "source": []
  },
  {
   "cell_type": "code",
   "execution_count": null,
   "metadata": {},
   "outputs": [],
   "source": []
  }
 ],
 "metadata": {
  "kernelspec": {
   "display_name": "torch",
   "language": "python",
   "name": "python3"
  },
  "language_info": {
   "codemirror_mode": {
    "name": "ipython",
    "version": 3
   },
   "file_extension": ".py",
   "mimetype": "text/x-python",
   "name": "python",
   "nbconvert_exporter": "python",
   "pygments_lexer": "ipython3",
   "version": "3.11.4"
  }
 },
 "nbformat": 4,
 "nbformat_minor": 2
}
